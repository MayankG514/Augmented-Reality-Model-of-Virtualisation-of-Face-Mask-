{
  "nbformat": 4,
  "nbformat_minor": 0,
  "metadata": {
    "colab": {
      "name": "Superimpose_mask_on_face.ipynb",
      "provenance": [],
      "collapsed_sections": []
    },
    "kernelspec": {
      "name": "python3",
      "display_name": "Python 3"
    },
    "accelerator": "GPU"
  },
  "cells": [
    {
      "cell_type": "code",
      "metadata": {
        "id": "aD6FVeKKmqOt",
        "outputId": "f7a0fbe7-49cd-466d-9a19-748ca3caddee",
        "colab": {
          "base_uri": "https://localhost:8080/",
          "height": 34
        }
      },
      "source": [
        "pip install dlib"
      ],
      "execution_count": null,
      "outputs": [
        {
          "output_type": "stream",
          "text": [
            "Requirement already satisfied: dlib in /usr/local/lib/python3.6/dist-packages (19.18.0)\n"
          ],
          "name": "stdout"
        }
      ]
    },
    {
      "cell_type": "code",
      "metadata": {
        "id": "0amP-6_Emveg",
        "outputId": "4a55937f-463d-4090-f36a-83c7dae2e6c3",
        "colab": {
          "base_uri": "https://localhost:8080/",
          "height": 34
        }
      },
      "source": [
        "pip install imutils"
      ],
      "execution_count": null,
      "outputs": [
        {
          "output_type": "stream",
          "text": [
            "Requirement already satisfied: imutils in /usr/local/lib/python3.6/dist-packages (0.5.3)\n"
          ],
          "name": "stdout"
        }
      ]
    },
    {
      "cell_type": "code",
      "metadata": {
        "id": "txurgydDm7g7"
      },
      "source": [
        "import cv2\n",
        "import PIL\n",
        "from PIL import Image\n",
        "from imutils import face_utils\n",
        "import matplotlib.pyplot as plt"
      ],
      "execution_count": null,
      "outputs": []
    },
    {
      "cell_type": "code",
      "metadata": {
        "id": "uahtFASFnNpe"
      },
      "source": [
        "# from google.colab import files\n",
        "# uploaded=files.upload()"
      ],
      "execution_count": null,
      "outputs": []
    },
    {
      "cell_type": "code",
      "metadata": {
        "id": "HlGnKVdAbkMQ"
      },
      "source": [
        "  # !git clone https://github.com/MayankG514/FACE_MASK"
      ],
      "execution_count": null,
      "outputs": []
    },
    {
      "cell_type": "code",
      "metadata": {
        "id": "thC3DdZfbpbm"
      },
      "source": [
        "import os"
      ],
      "execution_count": null,
      "outputs": []
    },
    {
      "cell_type": "code",
      "metadata": {
        "id": "C1BowtXLk0xE"
      },
      "source": [
        "# from zipfile import ZipFile\n",
        "# file_name='data.zip'\n",
        "\n",
        "# with ZipFile(file_name,'r') as zip:\n",
        "#   zip.extractall()\n",
        "#   print('Done')\n",
        "\n",
        "# # from zipfile import ZipFile\n"
      ],
      "execution_count": null,
      "outputs": []
    },
    {
      "cell_type": "code",
      "metadata": {
        "id": "IGwrYBUVdje3"
      },
      "source": [
        "data_path='/content/data'"
      ],
      "execution_count": null,
      "outputs": []
    },
    {
      "cell_type": "code",
      "metadata": {
        "id": "NO4zu0cedwvN",
        "outputId": "c7f362e7-9ef5-4a5b-b912-cfb221038b41",
        "colab": {
          "base_uri": "https://localhost:8080/",
          "height": 52
        }
      },
      "source": [
        "categories=os.listdir(data_path)\n",
        "labels=[i for i in range(len(categories))]\n",
        "\n",
        "\n",
        "print(labels)\n",
        "print(categories)"
      ],
      "execution_count": null,
      "outputs": [
        {
          "output_type": "stream",
          "text": [
            "[0, 1]\n",
            "['with_mask', 'without_mask']\n"
          ],
          "name": "stdout"
        }
      ]
    },
    {
      "cell_type": "code",
      "metadata": {
        "id": "rLtuBQudgsty"
      },
      "source": [
        "label_dict=dict(zip(categories,labels))"
      ],
      "execution_count": null,
      "outputs": []
    },
    {
      "cell_type": "code",
      "metadata": {
        "id": "Oz2yjeFrwa0a",
        "outputId": "75635d2a-01cd-4ceb-9db2-472cd34fbba2",
        "colab": {
          "base_uri": "https://localhost:8080/",
          "height": 34
        }
      },
      "source": [
        "label_dict"
      ],
      "execution_count": null,
      "outputs": [
        {
          "output_type": "execute_result",
          "data": {
            "text/plain": [
              "{'with_mask': 0, 'without_mask': 1}"
            ]
          },
          "metadata": {
            "tags": []
          },
          "execution_count": 9
        }
      ]
    },
    {
      "cell_type": "code",
      "metadata": {
        "id": "r7783Wl9ybjz"
      },
      "source": [
        "img_size=100\n",
        "data=[]\n",
        "target=[]\n",
        "\n",
        "for category in categories:\n",
        "  folder_path=os.path.join(data_path,category)\n",
        "  img_names=os.listdir(folder_path)\n",
        "\n",
        "  for img_name in img_names:\n",
        "    img_path=os.path.join(folder_path,img_name)\n",
        "    img=cv2.imread(img_path)\n",
        "\n",
        "    gray=cv2.cvtColor(img,cv2.COLOR_BGR2GRAY)\n",
        "    resized=cv2.resize(gray,(img_size,img_size))\n",
        "    data.append(resized)\n",
        "    target.append(label_dict[category])\n",
        "    "
      ],
      "execution_count": null,
      "outputs": []
    },
    {
      "cell_type": "code",
      "metadata": {
        "id": "EeLZ3CbK0X8N",
        "outputId": "98aa2f8d-88a8-4a86-97fd-e5539853f217",
        "colab": {
          "base_uri": "https://localhost:8080/",
          "height": 34
        }
      },
      "source": [
        "import numpy as np\n",
        "data=np.array(data)/255\n",
        "data=np.reshape(data,(data.shape[0],img_size,img_size,1))\n",
        "target=np.array(target)\n",
        "\n",
        "from keras.utils import np_utils\n",
        "new_target=np_utils.to_categorical(target)\n"
      ],
      "execution_count": null,
      "outputs": [
        {
          "output_type": "stream",
          "text": [
            "Using TensorFlow backend.\n"
          ],
          "name": "stderr"
        }
      ]
    },
    {
      "cell_type": "code",
      "metadata": {
        "id": "m7KBzJRe1wPq"
      },
      "source": [
        "np.save('data',data)\n",
        "np.save('target',new_target)"
      ],
      "execution_count": null,
      "outputs": []
    },
    {
      "cell_type": "code",
      "metadata": {
        "id": "rWUEgZr92e2C"
      },
      "source": [
        "data=np.load('data.npy')\n",
        "target=np.load('target.npy')"
      ],
      "execution_count": null,
      "outputs": []
    },
    {
      "cell_type": "code",
      "metadata": {
        "id": "HnT5CJa32oHs"
      },
      "source": [
        "from keras.models import Sequential\n",
        "from keras.layers import Dense,Activation,Flatten,Dropout\n",
        "from keras.layers import Conv2D,MaxPool2D\n",
        "from keras.callbacks import ModelCheckpoint\n"
      ],
      "execution_count": null,
      "outputs": []
    },
    {
      "cell_type": "code",
      "metadata": {
        "id": "bPCOoWRe2_9C"
      },
      "source": [
        "model =Sequential()\n",
        "\n",
        "model.add(Conv2D(200,(3,3),input_shape=data.shape[1:]))\n",
        "model.add(Activation('relu'))\n",
        "model.add(MaxPool2D(pool_size=(2,2)))\n",
        "\n",
        "model.add(Conv2D(100,(3,3),))\n",
        "model.add(Activation('relu'))\n",
        "model.add(MaxPool2D(pool_size=(2,2)))\n",
        "\n",
        "model.add(Flatten())\n",
        "model.add(Dropout(0.5))\n",
        "model.add(Dense(50,activation='relu'))\n",
        "model.add(Dense(2,activation='softmax'))\n",
        "\n",
        "model.compile(loss='categorical_crossentropy',optimizer='adam',metrics=['accuracy'])\n"
      ],
      "execution_count": null,
      "outputs": []
    },
    {
      "cell_type": "code",
      "metadata": {
        "id": "ZxCv9jFZu0Z2",
        "outputId": "4e479920-06ac-4392-b16f-734cc672dc01",
        "colab": {
          "base_uri": "https://localhost:8080/",
          "height": 34
        }
      },
      "source": [
        "# pip install ann_visualizer"
      ],
      "execution_count": null,
      "outputs": [
        {
          "output_type": "stream",
          "text": [
            "Requirement already satisfied: ann_visualizer in /usr/local/lib/python3.6/dist-packages (2.5)\n"
          ],
          "name": "stdout"
        }
      ]
    },
    {
      "cell_type": "code",
      "metadata": {
        "id": "PzB8SghKu979",
        "outputId": "a045be4e-2b8f-4bd1-a301-abe3869e300e",
        "colab": {
          "base_uri": "https://localhost:8080/",
          "height": 34
        }
      },
      "source": [
        "# pip install graphviz"
      ],
      "execution_count": null,
      "outputs": [
        {
          "output_type": "stream",
          "text": [
            "Requirement already satisfied: graphviz in /usr/local/lib/python3.6/dist-packages (0.10.1)\n"
          ],
          "name": "stdout"
        }
      ]
    },
    {
      "cell_type": "code",
      "metadata": {
        "id": "J5A5de4kyuZq"
      },
      "source": [
        "# from ann_visualizer.visualize import ann_viz;\n",
        "# #Build your model here\n",
        "# x=ann_viz(model, view=True, filename=\"network.gv\", title=\"Mask Detection\")"
      ],
      "execution_count": null,
      "outputs": []
    },
    {
      "cell_type": "code",
      "metadata": {
        "id": "HSuZGJIz10Xk"
      },
      "source": [
        "# from graphviz import Source"
      ],
      "execution_count": null,
      "outputs": []
    },
    {
      "cell_type": "code",
      "metadata": {
        "id": "wKHJ5whw18oV"
      },
      "source": [
        ""
      ],
      "execution_count": null,
      "outputs": []
    },
    {
      "cell_type": "code",
      "metadata": {
        "id": "--12k8rJz7QC"
      },
      "source": [
        "# graph_source=Source.from_file('network.gv')"
      ],
      "execution_count": null,
      "outputs": []
    },
    {
      "cell_type": "code",
      "metadata": {
        "id": "jvJZEWyB2ELP"
      },
      "source": [
        "# graph_source"
      ],
      "execution_count": null,
      "outputs": []
    },
    {
      "cell_type": "code",
      "metadata": {
        "id": "hYnMaWtL2Mu3"
      },
      "source": [
        ""
      ],
      "execution_count": null,
      "outputs": []
    },
    {
      "cell_type": "code",
      "metadata": {
        "id": "c0IH6btSy-ay",
        "outputId": "8a6cea79-96ff-4172-d0e6-e83f51acb6c7",
        "colab": {
          "base_uri": "https://localhost:8080/",
          "height": 34
        }
      },
      "source": [
        "# ann_viz"
      ],
      "execution_count": null,
      "outputs": [
        {
          "output_type": "execute_result",
          "data": {
            "text/plain": [
              "<function ann_visualizer.visualize.ann_viz>"
            ]
          },
          "metadata": {
            "tags": []
          },
          "execution_count": 20
        }
      ]
    },
    {
      "cell_type": "code",
      "metadata": {
        "id": "ctddM4SgzG6Q",
        "outputId": "ef7f8c8a-ce2c-4c15-e42d-88a5ce66f23b",
        "colab": {
          "base_uri": "https://localhost:8080/",
          "height": 34
        }
      },
      "source": [
        "# model"
      ],
      "execution_count": null,
      "outputs": [
        {
          "output_type": "execute_result",
          "data": {
            "text/plain": [
              "<keras.engine.sequential.Sequential at 0x7fd10304a438>"
            ]
          },
          "metadata": {
            "tags": []
          },
          "execution_count": 22
        }
      ]
    },
    {
      "cell_type": "code",
      "metadata": {
        "id": "mDh0BjNO4unI"
      },
      "source": [
        "# from sklearn.model_selection import train_test_split\n"
      ],
      "execution_count": null,
      "outputs": []
    },
    {
      "cell_type": "code",
      "metadata": {
        "id": "vxoxmNAbuPQZ"
      },
      "source": [
        "# train_data,test_data,train_target,test_target=train_test_split(data,target,test_size=0.2,random_state=True)"
      ],
      "execution_count": null,
      "outputs": []
    },
    {
      "cell_type": "code",
      "metadata": {
        "id": "6gUqIHcf5Car",
        "outputId": "d500cdd8-9704-4bcc-f582-2d55e0ce0f56",
        "colab": {
          "base_uri": "https://localhost:8080/",
          "height": 745
        }
      },
      "source": [
        "# checkpoint=ModelCheckpoint('model-{epoch:03d}.model',monitor='val_loss',verbose=0,save_best_only=True,mode='auto')\n",
        "# history=model.fit(train_data,train_target,epochs=20,callbacks=[checkpoint],validation_split=0.2)"
      ],
      "execution_count": null,
      "outputs": [
        {
          "output_type": "stream",
          "text": [
            "Train on 880 samples, validate on 220 samples\n",
            "Epoch 1/20\n",
            "880/880 [==============================] - 7s 8ms/step - loss: 0.7300 - accuracy: 0.5432 - val_loss: 0.6918 - val_accuracy: 0.5227\n",
            "Epoch 2/20\n",
            "880/880 [==============================] - 1s 765us/step - loss: 0.6538 - accuracy: 0.6455 - val_loss: 0.6858 - val_accuracy: 0.5500\n",
            "Epoch 3/20\n",
            "880/880 [==============================] - 1s 758us/step - loss: 0.5172 - accuracy: 0.7420 - val_loss: 0.4137 - val_accuracy: 0.8364\n",
            "Epoch 4/20\n",
            "880/880 [==============================] - 1s 771us/step - loss: 0.3584 - accuracy: 0.8534 - val_loss: 0.3533 - val_accuracy: 0.8364\n",
            "Epoch 5/20\n",
            "880/880 [==============================] - 1s 775us/step - loss: 0.3008 - accuracy: 0.8750 - val_loss: 0.3531 - val_accuracy: 0.8455\n",
            "Epoch 6/20\n",
            "880/880 [==============================] - 1s 761us/step - loss: 0.2109 - accuracy: 0.9182 - val_loss: 0.2518 - val_accuracy: 0.9091\n",
            "Epoch 7/20\n",
            "880/880 [==============================] - 1s 755us/step - loss: 0.2074 - accuracy: 0.9170 - val_loss: 0.2367 - val_accuracy: 0.9318\n",
            "Epoch 8/20\n",
            "880/880 [==============================] - 1s 749us/step - loss: 0.1883 - accuracy: 0.9341 - val_loss: 0.2265 - val_accuracy: 0.9045\n",
            "Epoch 9/20\n",
            "880/880 [==============================] - 1s 764us/step - loss: 0.1583 - accuracy: 0.9318 - val_loss: 0.2150 - val_accuracy: 0.9318\n",
            "Epoch 10/20\n",
            "880/880 [==============================] - 1s 767us/step - loss: 0.1433 - accuracy: 0.9477 - val_loss: 0.2036 - val_accuracy: 0.9318\n",
            "Epoch 11/20\n",
            "880/880 [==============================] - 1s 775us/step - loss: 0.0871 - accuracy: 0.9636 - val_loss: 0.1976 - val_accuracy: 0.9318\n",
            "Epoch 12/20\n",
            "880/880 [==============================] - 1s 757us/step - loss: 0.0663 - accuracy: 0.9795 - val_loss: 0.1888 - val_accuracy: 0.9455\n",
            "Epoch 13/20\n",
            "880/880 [==============================] - 1s 751us/step - loss: 0.0796 - accuracy: 0.9682 - val_loss: 0.1967 - val_accuracy: 0.9455\n",
            "Epoch 14/20\n",
            "880/880 [==============================] - 1s 751us/step - loss: 0.0707 - accuracy: 0.9727 - val_loss: 0.1485 - val_accuracy: 0.9500\n",
            "Epoch 15/20\n",
            "880/880 [==============================] - 1s 765us/step - loss: 0.0452 - accuracy: 0.9864 - val_loss: 0.1677 - val_accuracy: 0.9545\n",
            "Epoch 16/20\n",
            "880/880 [==============================] - 1s 769us/step - loss: 0.0694 - accuracy: 0.9750 - val_loss: 0.2325 - val_accuracy: 0.9273\n",
            "Epoch 17/20\n",
            "880/880 [==============================] - 1s 764us/step - loss: 0.0445 - accuracy: 0.9830 - val_loss: 0.2450 - val_accuracy: 0.9409\n",
            "Epoch 18/20\n",
            "880/880 [==============================] - 1s 791us/step - loss: 0.0406 - accuracy: 0.9830 - val_loss: 0.1806 - val_accuracy: 0.9409\n",
            "Epoch 19/20\n",
            "880/880 [==============================] - 1s 761us/step - loss: 0.0551 - accuracy: 0.9807 - val_loss: 0.1885 - val_accuracy: 0.9545\n",
            "Epoch 20/20\n",
            "880/880 [==============================] - 1s 759us/step - loss: 0.0400 - accuracy: 0.9830 - val_loss: 0.2836 - val_accuracy: 0.9000\n"
          ],
          "name": "stdout"
        }
      ]
    },
    {
      "cell_type": "code",
      "metadata": {
        "id": "6onkAtHh6HFL",
        "outputId": "b5ac884d-3097-42e0-8241-0b81bdc23ceb",
        "colab": {
          "base_uri": "https://localhost:8080/",
          "height": 52
        }
      },
      "source": [
        "# print(model.evaluate(test_data,test_target))"
      ],
      "execution_count": null,
      "outputs": [
        {
          "output_type": "stream",
          "text": [
            "276/276 [==============================] - 0s 497us/step\n",
            "[0.20490961251915366, 0.9202898740768433]\n"
          ],
          "name": "stdout"
        }
      ]
    },
    {
      "cell_type": "code",
      "metadata": {
        "id": "2sc4ZcJ0eTta",
        "outputId": "35af6e4d-d930-450b-ee62-003c20a930df",
        "colab": {
          "base_uri": "https://localhost:8080/",
          "height": 278
        }
      },
      "source": [
        "# plt.plot(history.history['accuracy'],'r',label='training_accuracy')\n",
        "# plt.plot(history.history['val_accuracy'],label='validation_accuracy')\n",
        "# plt.xlabel('# epochs')\n",
        "# plt.ylabel('loss')\n",
        "# plt.legend()\n",
        "# plt.show()"
      ],
      "execution_count": null,
      "outputs": [
        {
          "output_type": "display_data",
          "data": {
            "image/png": "[encoded data removed]",
            "text/plain": [
              "<Figure size 432x288 with 1 Axes>"
            ]
          },
          "metadata": {
            "tags": [],
            "needs_background": "light"
          }
        }
      ]
    },
    {
      "cell_type": "code",
      "metadata": {
        "id": "gG1dvCzXuTo3"
      },
      "source": [
        "from google.colab.patches import cv2_imshow"
      ],
      "execution_count": null,
      "outputs": []
    },
    {
      "cell_type": "code",
      "metadata": {
        "id": "BztmONZKvKLq"
      },
      "source": [
        "from keras.models import load_model"
      ],
      "execution_count": null,
      "outputs": []
    },
    {
      "cell_type": "code",
      "metadata": {
        "id": "5AH1jn2ux3ZK"
      },
      "source": [
        "model=load_model('/content/model-014.model')"
      ],
      "execution_count": null,
      "outputs": []
    },
    {
      "cell_type": "code",
      "metadata": {
        "id": "WRqGuOj_yF0z",
        "outputId": "30f7393e-825a-49de-9260-2aa86d41aa01",
        "colab": {
          "base_uri": "https://localhost:8080/",
          "height": 321
        }
      },
      "source": [
        "pip install face_recognition"
      ],
      "execution_count": null,
      "outputs": [
        {
          "output_type": "stream",
          "text": [
            "Collecting face_recognition\n",
            "  Downloading https://files.pythonhosted.org/packages/1e/95/f6c9330f54ab07bfa032bf3715c12455a381083125d8880c43cbe76bb3d0/face_recognition-1.3.0-py2.py3-none-any.whl\n",
            "Collecting face-recognition-models>=0.3.0\n",
            "\u001b[?25l  Downloading https://files.pythonhosted.org/packages/cf/3b/4fd8c534f6c0d1b80ce0973d01331525538045084c73c153ee6df20224cf/face_recognition_models-0.3.0.tar.gz (100.1MB)\n",
            "\u001b[K     |████████████████████████████████| 100.2MB 118kB/s \n",
            "\u001b[?25hRequirement already satisfied: Pillow in /usr/local/lib/python3.6/dist-packages (from face_recognition) (7.0.0)\n",
            "Requirement already satisfied: dlib>=19.7 in /usr/local/lib/python3.6/dist-packages (from face_recognition) (19.18.0)\n",
            "Requirement already satisfied: Click>=6.0 in /usr/local/lib/python3.6/dist-packages (from face_recognition) (7.1.2)\n",
            "Requirement already satisfied: numpy in /usr/local/lib/python3.6/dist-packages (from face_recognition) (1.18.5)\n",
            "Building wheels for collected packages: face-recognition-models\n",
            "  Building wheel for face-recognition-models (setup.py) ... \u001b[?25l\u001b[?25hdone\n",
            "  Created wheel for face-recognition-models: filename=face_recognition_models-0.3.0-py2.py3-none-any.whl size=100566172 sha256=1dc47fe8033c54b0680dbbb0a7e9518ebf2abc9fdb3472c73bd6e039364d0100\n",
            "  Stored in directory: /root/.cache/pip/wheels/d2/99/18/59c6c8f01e39810415c0e63f5bede7d83dfb0ffc039865465f\n",
            "Successfully built face-recognition-models\n",
            "Installing collected packages: face-recognition-models, face-recognition\n",
            "Successfully installed face-recognition-1.3.0 face-recognition-models-0.3.0\n"
          ],
          "name": "stdout"
        }
      ]
    },
    {
      "cell_type": "code",
      "metadata": {
        "id": "0OpdwyGzyMOI"
      },
      "source": [
        "import face_recognition"
      ],
      "execution_count": null,
      "outputs": []
    },
    {
      "cell_type": "code",
      "metadata": {
        "id": "XsenCNsYyTFI"
      },
      "source": [
        "face=face_recognition.load_image_file('/content/download.jpg')"
      ],
      "execution_count": null,
      "outputs": []
    },
    {
      "cell_type": "code",
      "metadata": {
        "id": "1pW1wRcRycWW"
      },
      "source": [
        "gray_img=cv2.cvtColor(face,cv2.COLOR_BGR2GRAY)"
      ],
      "execution_count": null,
      "outputs": []
    },
    {
      "cell_type": "code",
      "metadata": {
        "id": "2elYBa6Fy60a"
      },
      "source": [
        "img_size=100\n",
        "resized_gray=cv2.resize(gray_img,(img_size,img_size))"
      ],
      "execution_count": null,
      "outputs": []
    },
    {
      "cell_type": "code",
      "metadata": {
        "id": "sBo2kREnyzvx"
      },
      "source": [
        "normalized=resized_gray/255.0"
      ],
      "execution_count": null,
      "outputs": []
    },
    {
      "cell_type": "code",
      "metadata": {
        "id": "lI0CNEzIy2Wb"
      },
      "source": [
        "import numpy as np"
      ],
      "execution_count": null,
      "outputs": []
    },
    {
      "cell_type": "code",
      "metadata": {
        "id": "J003fPj0y_xK"
      },
      "source": [
        "reshaped=np.reshape(normalized,(1,100,100,1))"
      ],
      "execution_count": null,
      "outputs": []
    },
    {
      "cell_type": "code",
      "metadata": {
        "id": "fC0c47qxzGkq",
        "outputId": "6a3e14a2-630d-4ede-f943-3c82b0024c42",
        "colab": {
          "base_uri": "https://localhost:8080/",
          "height": 34
        }
      },
      "source": [
        "result_raw=model.predict(reshaped)\n",
        "label=np.argmax(result_raw,axis=1)[0]\n",
        "label"
      ],
      "execution_count": null,
      "outputs": [
        {
          "output_type": "execute_result",
          "data": {
            "text/plain": [
              "0"
            ]
          },
          "metadata": {
            "tags": []
          },
          "execution_count": 47
        }
      ]
    },
    {
      "cell_type": "code",
      "metadata": {
        "id": "gWh0s1f45FMz"
      },
      "source": [
        "raw_img=cv2.imread('/content/download.jpg')"
      ],
      "execution_count": null,
      "outputs": []
    },
    {
      "cell_type": "code",
      "metadata": {
        "id": "LAmqHaLjzaSt",
        "outputId": "11bccda3-f3a1-48ef-df2b-22ae4d0b0311",
        "colab": {
          "base_uri": "https://localhost:8080/",
          "height": 152
        }
      },
      "source": [
        "cv2_imshow(raw_img)"
      ],
      "execution_count": null,
      "outputs": [
        {
          "output_type": "display_data",
          "data": {
            "image/png": "[encoded data removed]",
            "text/plain": [
              "<PIL.Image.Image image mode=RGB size=158x135 at 0x7FD09D94BDA0>"
            ]
          },
          "metadata": {
            "tags": []
          }
        }
      ]
    },
    {
      "cell_type": "code",
      "metadata": {
        "id": "3CohXlCFzhi6"
      },
      "source": [
        "face_image_np = face_recognition.load_image_file('/content/download.jpg')\n",
        "face_locations = face_recognition.face_locations(face_image_np, model='hog')\n",
        "face_landmarks = face_recognition.face_landmarks(face_image_np, face_locations)"
      ],
      "execution_count": null,
      "outputs": []
    },
    {
      "cell_type": "code",
      "metadata": {
        "id": "m7VeVmXn0NLZ"
      },
      "source": [
        "land_dict=face_landmarks[0]"
      ],
      "execution_count": null,
      "outputs": []
    },
    {
      "cell_type": "code",
      "metadata": {
        "id": "Jk2jjYgk0RIj"
      },
      "source": [
        "import numpy as np"
      ],
      "execution_count": null,
      "outputs": []
    },
    {
      "cell_type": "code",
      "metadata": {
        "id": "ddQBT5Yj0UO3"
      },
      "source": [
        "def get_distance_from_point_to_line(point, line_point1, line_point2):\n",
        "  distance = np.abs((line_point2[1] - line_point1[1]) * point[0] +\n",
        "                    (line_point1[0] - line_point2[0]) * point[1] +\n",
        "                    (line_point2[0] - line_point1[0]) * line_point1[1] +\n",
        "                    (line_point1[1] - line_point2[1]) * line_point1[0]) / \\\n",
        "                    np.sqrt((line_point2[1] - line_point1[1]) * (line_point2[1] - line_point1[1])\n",
        "                    +(line_point1[0] - line_point2[0]) * (line_point1[0] - line_point2[0]))\n",
        "  return int(distance)"
      ],
      "execution_count": null,
      "outputs": []
    },
    {
      "cell_type": "code",
      "metadata": {
        "id": "muroFzYk0XPA"
      },
      "source": [
        "nose_bridges = land_dict['nose_bridge']\n",
        "nose_point = nose_bridges[len(nose_bridges) * 1 // 4]\n",
        "nose_v = np.array(nose_point)"
      ],
      "execution_count": null,
      "outputs": []
    },
    {
      "cell_type": "code",
      "metadata": {
        "id": "87i3pGj70eSS"
      },
      "source": [
        "chin = land_dict['chin']\n",
        "chin_len = len(chin)\n",
        "chin_bottom_point = chin[chin_len // 2]\n",
        "chin_bottom_v = np.array(chin_bottom_point)\n",
        "chin_left_point = chin[chin_len // 8]\n",
        "chin_right_point = chin[chin_len * 7 // 8]"
      ],
      "execution_count": null,
      "outputs": []
    },
    {
      "cell_type": "code",
      "metadata": {
        "id": "M9KkJ_vD0hL5"
      },
      "source": [
        "mask_img = Image.open('blue-mask.png')"
      ],
      "execution_count": null,
      "outputs": []
    },
    {
      "cell_type": "code",
      "metadata": {
        "id": "UPctpke90lW3"
      },
      "source": [
        "width =mask_img.width\n",
        "height =mask_img.height\n",
        "width_ratio = 1.2\n",
        "new_height = int(np.linalg.norm(nose_v - chin_bottom_v))"
      ],
      "execution_count": null,
      "outputs": []
    },
    {
      "cell_type": "code",
      "metadata": {
        "id": "ZPDlufpW07Wb"
      },
      "source": [
        "sample_mask=cv2.imread('/content/blue-mask.png')"
      ],
      "execution_count": null,
      "outputs": []
    },
    {
      "cell_type": "code",
      "metadata": {
        "id": "Ye7Tjzw90sM4",
        "outputId": "9f904499-d76a-4668-980f-a9d19dc87a57",
        "colab": {
          "base_uri": "https://localhost:8080/",
          "height": 163
        }
      },
      "source": [
        "mask_img"
      ],
      "execution_count": null,
      "outputs": [
        {
          "output_type": "execute_result",
          "data": {
            "image/png": "[encoded data removed]",
            "text/plain": [
              "<PIL.PngImagePlugin.PngImageFile image mode=RGBA size=234x146 at 0x7FD09D9BA0B8>"
            ]
          },
          "metadata": {
            "tags": []
          },
          "execution_count": 61
        }
      ]
    },
    {
      "cell_type": "code",
      "metadata": {
        "id": "GVXjESVm0o6i"
      },
      "source": [
        "mask_left_img = mask_img.crop((0, 0, width // 2, height))\n",
        "mask_left_width =get_distance_from_point_to_line(chin_left_point, nose_point, chin_bottom_point)\n",
        "mask_left_width =int(mask_left_width * width_ratio)\n",
        "mask_left_img =mask_left_img.resize((mask_left_width, new_height))"
      ],
      "execution_count": null,
      "outputs": []
    },
    {
      "cell_type": "code",
      "metadata": {
        "id": "ghDpTfrB1FwY",
        "outputId": "37d70530-7e44-494d-edf2-81540fcb0613",
        "colab": {
          "base_uri": "https://localhost:8080/",
          "height": 68
        }
      },
      "source": [
        "mask_left_img"
      ],
      "execution_count": null,
      "outputs": [
        {
          "output_type": "execute_result",
          "data": {
            "image/png": "[encoded data removed]",
            "text/plain": [
              "<PIL.Image.Image image mode=RGBA size=36x52 at 0x7FD09D9C8630>"
            ]
          },
          "metadata": {
            "tags": []
          },
          "execution_count": 63
        }
      ]
    },
    {
      "cell_type": "code",
      "metadata": {
        "id": "Isi1Nf-M1Kcl"
      },
      "source": [
        "mask_right_img =mask_img.crop((width // 2, 0, width, height))\n",
        "mask_right_width =get_distance_from_point_to_line(chin_right_point, nose_point, chin_bottom_point)\n",
        "mask_right_width =int(mask_right_width * width_ratio)\n",
        "mask_right_img =mask_right_img.resize((mask_right_width, new_height))"
      ],
      "execution_count": null,
      "outputs": []
    },
    {
      "cell_type": "code",
      "metadata": {
        "id": "kOem8ZTU1OEz",
        "outputId": "18c80e64-a435-4783-f42b-eba9df85802b",
        "colab": {
          "base_uri": "https://localhost:8080/",
          "height": 68
        }
      },
      "source": [
        "mask_right_img"
      ],
      "execution_count": null,
      "outputs": [
        {
          "output_type": "execute_result",
          "data": {
            "image/png": "[encoded data removed]",
            "text/plain": [
              "<PIL.Image.Image image mode=RGBA size=42x52 at 0x7FD09D9C8588>"
            ]
          },
          "metadata": {
            "tags": []
          },
          "execution_count": 65
        }
      ]
    },
    {
      "cell_type": "code",
      "metadata": {
        "id": "vwAMoKyX1PO1"
      },
      "source": [
        "size = (mask_left_img.width + mask_right_img.width, new_height)\n",
        "mask_img = Image.new('RGBA', size)\n",
        "mask_img.paste(mask_left_img, (0, 0), mask_left_img)\n",
        "mask_img.paste(mask_right_img, (mask_left_img.width, 0), mask_right_img)"
      ],
      "execution_count": null,
      "outputs": []
    },
    {
      "cell_type": "code",
      "metadata": {
        "id": "xEWPzhOw1TCU"
      },
      "source": [
        "angle = np.arctan2(chin_bottom_point[1] - nose_point[1], chin_bottom_point[0] - nose_point[0])\n",
        "rotated_mask_img = mask_img.rotate(angle, expand=True)"
      ],
      "execution_count": null,
      "outputs": []
    },
    {
      "cell_type": "code",
      "metadata": {
        "id": "bzxQc_Ee1VQK"
      },
      "source": [
        "center_x = (nose_point[0] + chin_bottom_point[0]) // 2\n",
        "center_y = (nose_point[1] + chin_bottom_point[1]) // 2\n",
        "offset = mask_img.width // 2 - mask_left_img.width\n",
        "radian = angle * np.pi / 180\n",
        "box_x = center_x + int(offset * np.cos(radian)) - rotated_mask_img.width // 2\n",
        "box_y = center_y + int(offset * np.sin(radian)) - rotated_mask_img.height // 2"
      ],
      "execution_count": null,
      "outputs": []
    },
    {
      "cell_type": "code",
      "metadata": {
        "id": "A3Y6YYP91aFe"
      },
      "source": [
        "face_img =Image.fromarray(face_image_np)"
      ],
      "execution_count": null,
      "outputs": []
    },
    {
      "cell_type": "code",
      "metadata": {
        "id": "EnUwSbrV1cTl"
      },
      "source": [
        "face_img.paste(mask_img, (box_x, box_y), mask_img)"
      ],
      "execution_count": null,
      "outputs": []
    },
    {
      "cell_type": "code",
      "metadata": {
        "id": "Yr_zxSHS1ekv",
        "outputId": "832f375f-d701-4f7e-a0ed-88d96a1922cf",
        "colab": {
          "base_uri": "https://localhost:8080/",
          "height": 152
        }
      },
      "source": [
        "face_img"
      ],
      "execution_count": null,
      "outputs": [
        {
          "output_type": "execute_result",
          "data": {
            "image/png": "[encoded data removed]",
            "text/plain": [
              "<PIL.Image.Image image mode=RGB size=158x135 at 0x7FD09D94BEF0>"
            ]
          },
          "metadata": {
            "tags": []
          },
          "execution_count": 71
        }
      ]
    },
    {
      "cell_type": "code",
      "metadata": {
        "id": "ALI6Z5GV1hKA"
      },
      "source": [
        "face_img.save('Generated_image.png')"
      ],
      "execution_count": null,
      "outputs": []
    },
    {
      "cell_type": "code",
      "metadata": {
        "id": "MbXe_hTR1vKM"
      },
      "source": [
        "face=face_recognition.load_image_file('/content/Generated_image.png')\n",
        "gray_test_img=cv2.cvtColor(face,cv2.COLOR_BGR2GRAY) \n",
        "img_size=100\n",
        "resized_gray=cv2.resize(gray_test_img,(img_size,img_size))\n",
        "normalized=resized_gray/255.0\n",
        "reshaped=np.reshape(normalized,(1,100,100,1))\n",
        "result_gen=model.predict(reshaped)"
      ],
      "execution_count": null,
      "outputs": []
    },
    {
      "cell_type": "code",
      "metadata": {
        "id": "kGGRevaz2X1G",
        "outputId": "720e5147-a9ec-4a48-d8e8-860d25fc157a",
        "colab": {
          "base_uri": "https://localhost:8080/",
          "height": 34
        }
      },
      "source": [
        "label_gen=np.argmax(result_gen,axis=1)[0]\n",
        "label_gen"
      ],
      "execution_count": null,
      "outputs": [
        {
          "output_type": "execute_result",
          "data": {
            "text/plain": [
              "1"
            ]
          },
          "metadata": {
            "tags": []
          },
          "execution_count": 74
        }
      ]
    },
    {
      "cell_type": "code",
      "metadata": {
        "id": "m5qca4DA2mE7"
      },
      "source": [
        ""
      ],
      "execution_count": null,
      "outputs": []
    }
  ]
}